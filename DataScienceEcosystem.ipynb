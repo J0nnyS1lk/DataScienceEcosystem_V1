{
 "cells": [
  {
   "cell_type": "markdown",
   "id": "f3e051d1",
   "metadata": {},
   "source": [
    "# Data Science Tools and Ecosystem\n"
   ]
  },
  {
   "cell_type": "markdown",
   "id": "fd752037",
   "metadata": {},
   "source": [
    "### In this notebook, Data Science Tools and Ecosystem are summarized.\n",
    "   **Objectives:**\n",
    "   - List popular languages for Data Science\n",
    "   - List some Tools for Data Science\n",
    "   - List commonly used libraries for Data Science\n",
    "   - Create a few examples of arithmetic expressions in Python"
   ]
  },
  {
   "cell_type": "markdown",
   "id": "71ded38c",
   "metadata": {},
   "source": [
    "Some of the popular languages that Data Scientists use are:\n",
    "- Python\n",
    "- R\n",
    "- HTML\n",
    "- SQL\n",
    "- Scala\n",
    "- C++"
   ]
  },
  {
   "cell_type": "markdown",
   "id": "70d3d2d8",
   "metadata": {},
   "source": [
    "Some of the commonly used libraries used by Data Scientists include:\n",
    "\n",
    "- Pandas\n",
    "- NumPy\n",
    "- Matplotlib\n",
    "- Keras\n",
    "- TensorFlow\n",
    "- Apache Spark\n",
    "- Vegas\n",
    "- ggplot 2"
   ]
  },
  {
   "cell_type": "markdown",
   "id": "81f2a006",
   "metadata": {},
   "source": [
    "|Data Science Tools |\n",
    "----------------------\n",
    "|My SQL |\n",
    "|Jupyter Labs |\n",
    "|R Studio |"
   ]
  },
  {
   "cell_type": "markdown",
   "id": "c10e7ada",
   "metadata": {},
   "source": [
    "<h3>Below are a few examples of evaluating arithmetic expressions in Python<h3>"
   ]
  },
  {
   "cell_type": "code",
   "execution_count": 20,
   "id": "a028f02a",
   "metadata": {},
   "outputs": [
    {
     "data": {
      "text/plain": [
       "17"
      ]
     },
     "execution_count": 20,
     "metadata": {},
     "output_type": "execute_result"
    }
   ],
   "source": [
    "(3*4)+5\n",
    "# This a simple arithmetic expression to mutiply then add integers."
   ]
  },
  {
   "cell_type": "code",
   "execution_count": 19,
   "id": "2c66a3ff",
   "metadata": {},
   "outputs": [
    {
     "name": "stdout",
     "output_type": "stream",
     "text": [
      "3.3333333333333335 hours\n"
     ]
    }
   ],
   "source": [
    "minutes = 200\n",
    "hours = 200/60\n",
    "print(hours, \"hours\")\n",
    "#This will convert 200 minutes to hours by diving by 60."
   ]
  },
  {
   "cell_type": "markdown",
   "id": "c57a444b",
   "metadata": {},
   "source": [
    "## Author\n",
    "Jonathan Seda II"
   ]
  },
  {
   "cell_type": "code",
   "execution_count": null,
   "id": "7a074a57",
   "metadata": {},
   "outputs": [],
   "source": []
  }
 ],
 "metadata": {
  "kernelspec": {
   "display_name": "Python 3 (ipykernel)",
   "language": "python",
   "name": "python3"
  },
  "language_info": {
   "codemirror_mode": {
    "name": "ipython",
    "version": 3
   },
   "file_extension": ".py",
   "mimetype": "text/x-python",
   "name": "python",
   "nbconvert_exporter": "python",
   "pygments_lexer": "ipython3",
   "version": "3.11.5"
  }
 },
 "nbformat": 4,
 "nbformat_minor": 5
}
